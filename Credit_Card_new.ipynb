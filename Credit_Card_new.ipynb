{
 "cells": [
  {
   "cell_type": "code",
   "execution_count": 7,
   "metadata": {
    "collapsed": false
   },
   "outputs": [
    {
     "name": "stderr",
     "output_type": "stream",
     "text": [
      "C:\\Program Files\\Anaconda3\\lib\\site-packages\\sklearn\\utils\\validation.py:526: DataConversionWarning: A column-vector y was passed when a 1d array was expected. Please change the shape of y to (n_samples, ), for example using ravel().\n",
      "  y = column_or_1d(y, warn=True)\n"
     ]
    },
    {
     "name": "stdout",
     "output_type": "stream",
     "text": [
      "[[84825   471]\n",
      " [   22   125]]\n",
      "the recall for this model is : 0.850340136054\n",
      "TP 125\n",
      "TN 84825\n",
      "FP 471\n",
      "FN 22\n"
     ]
    },
    {
     "data": {
      "image/png": "[encoded data removed]",
      "text/plain": [
       "<matplotlib.figure.Figure at 0x25e242df588>"
      ]
     },
     "metadata": {},
     "output_type": "display_data"
    },
    {
     "name": "stdout",
     "output_type": "stream",
     "text": [
      "\n",
      "----------Classification Report------------------------------------\n",
      "             precision    recall  f1-score   support\n",
      "\n",
      "          0       1.00      0.99      1.00     85296\n",
      "          1       0.21      0.85      0.34       147\n",
      "\n",
      "avg / total       1.00      0.99      1.00     85443\n",
      "\n"
     ]
    }
   ],
   "source": [
    "import matplotlib.pyplot as plt\n",
    "import pandas as pd\n",
    "import seaborn as sns#visualization library\n",
    "from sklearn.model_selection import train_test_split\n",
    "from sklearn.metrics import confusion_matrix,recall_score,precision_recall_curve,auc,roc_curve,roc_auc_score,classification_report\n",
    "from sklearn.ensemble import RandomForestClassifier\n",
    "from sklearn import svm, tree\n",
    "from sklearn.svm import SVC\n",
    "from sklearn.tree import DecisionTreeClassifier\n",
    "from sklearn.linear_model import LogisticRegression\n",
    "from sklearn.naive_bayes import GaussianNB\n",
    "from sklearn.neighbors import KNeighborsClassifier\n",
    "from sklearn.ensemble import GradientBoostingClassifier\n",
    "from sklearn.model_selection import cross_val_score\n",
    "from sklearn.preprocessing import StandardScaler# required for feature scaling\n",
    "from imblearn.over_sampling import SMOTE\n",
    "from sklearn.feature_selection import VarianceThreshold, SelectKBest, chi2\n",
    "\n",
    "%matplotlib inline\n",
    "\n",
    "df = pd.read_csv(\"d://Python Programs//creditcard.csv\")#read the file \n",
    "#print(df.shape)# get the number of rows and columns\n",
    "\n",
    "#sns.countplot(\"Class\",data=df)\n",
    "\n",
    "def train_test_data(df):\n",
    "\n",
    "    features = df.ix[:, df.columns !='Class']\n",
    "    predictor = df.ix[:, df.columns == 'Class']\n",
    "\n",
    "    train_features, test_features, train_predictor, test_predictor = train_test_split(features, predictor, test_size= 0.3, random_state=0)\n",
    "    #print(train_features.shape, test_features.shape, train_predictor.shape, test_predictor.shape)\n",
    "\n",
    "    return(train_features, test_features, train_predictor, test_predictor)\n",
    "\n",
    "train_features, test_features, train_predictor, test_predictor = train_test_data(df)\n",
    "\n",
    "smote = SMOTE(random_state=0) #object creation\n",
    "\n",
    "smote_features_train, smote_predictor_train = smote.fit_sample(train_features,train_predictor)\n",
    "smote_features_train = pd.DataFrame(data=smote_features_train, columns=train_features.columns)\n",
    "smote_predictor_train = pd.DataFrame(data=smote_predictor_train,columns=[\"Class\"])\n",
    "\n",
    "#print(\"Proportion of Normal data in oversampled data is \",len(smote_predictor_train[smote_predictor_train[\"Class\"]==0])/len(smote_features_train))\n",
    "#print(\"Proportion of fraud data in oversampled data is \",len(smote_predictor_train[smote_predictor_train[\"Class\"]==1])/len(smote_features_train))\n",
    "\n",
    "smote_features_train[\"Normalized Amount\"] = StandardScaler().fit_transform(smote_features_train['Amount'].values.reshape(-1, 1))\n",
    "smote_features_train.drop([\"Amount\"],axis=1,inplace=True)\n",
    "test_features[\"Normalized Amount\"] = StandardScaler().fit_transform(test_features['Amount'].values.reshape(-1, 1))\n",
    "test_features.drop([\"Amount\"],axis=1,inplace=True)\n",
    "\n",
    "def analytics(model, train_features, test_features, train_predictor, test_predictor):\n",
    "    clf = model\n",
    "    model.fit(train_features, train_predictor.values.ravel())\n",
    "    pred = clf.predict(test_features)\n",
    "    cnf_matrix=confusion_matrix(test_predictor,pred)\n",
    "    print(cnf_matrix)\n",
    "    print(\"the recall for this model is :\",cnf_matrix[1,1]/(cnf_matrix[1,1]+cnf_matrix[1,0]))\n",
    "    fig= plt.figure(figsize=(6,3))# to plot the graph\n",
    "    print(\"TP\",cnf_matrix[1,1,]) # no of fraud transaction which are predicted fraud\n",
    "    print(\"TN\",cnf_matrix[0,0]) # no. of normal transaction which are predited normal\n",
    "    print(\"FP\",cnf_matrix[0,1]) # no of normal transaction which are predicted fraud\n",
    "    print(\"FN\",cnf_matrix[1,0]) # no of fraud Transaction which are predicted normal\n",
    "    sns.heatmap(cnf_matrix,annot=True,linewidths=0.5)\n",
    "    plt.title(\"Confusion_matrix\")\n",
    "    plt.xlabel(\"Predicted_class\")\n",
    "    plt.ylabel(\"Real class\")\n",
    "    plt.show()\n",
    "    print(\"\\n----------Classification Report------------------------------------\")\n",
    "    print(classification_report(test_predictor,pred))\n",
    "\n",
    "#clf = LogisticRegression()\n",
    "clf1 = RandomForestClassifier()\n",
    "analytics(clf, train_features, test_features, train_predictor, test_predictor )\n",
    "\n",
    "#analytics(clf1, smote_features_train, test_features, smote_predictor_train, test_predictor)\n",
    "\n",
    "#clf2 = LogisticRegression()\n",
    "#analytics(clf2, smote_features_train, test_features, smote_predictor_train, test_predictor)\n",
    "#clf3 = SVC()\n",
    "#analytics(clf3, smote_features_train, test_features, smote_predictor_train, test_predictor)\n",
    "\n",
    "#clf4 = DecisionTreeClassifier(random_state=0)\n",
    "#analytics(clf4, smote_features_train, test_features, smote_predictor_train, test_predictor)\n",
    "\n",
    "#clf5 = GaussianNB()\n",
    "#analytics(clf5, smote_features_train, test_features, smote_predictor_train, test_predictor)\n",
    "\n",
    "#clf6 = KNeighborsClassifier()\n",
    "#analytics(clf6, smote_features_train, test_features, smote_predictor_train, test_predictor)\n",
    "\n",
    "#clf7= GradientBoostingClassifier(n_estimators=200, learning_rate=1.0, max_depth=1, random_state=0)\n",
    "#analytics(clf7, smote_features_train, test_features, smote_predictor_train, test_predictor)\n",
    "\n",
    "\n"
   ]
  },
  {
   "cell_type": "code",
   "execution_count": null,
   "metadata": {
    "collapsed": true
   },
   "outputs": [],
   "source": []
  },
  {
   "cell_type": "code",
   "execution_count": null,
   "metadata": {
    "collapsed": true
   },
   "outputs": [],
   "source": []
  }
 ],
 "metadata": {
  "kernelspec": {
   "display_name": "Python [conda root]",
   "language": "python",
   "name": "conda-root-py"
  },
  "language_info": {
   "codemirror_mode": {
    "name": "ipython",
    "version": 3
   },
   "file_extension": ".py",
   "mimetype": "text/x-python",
   "name": "python",
   "nbconvert_exporter": "python",
   "pygments_lexer": "ipython3",
   "version": "3.5.2"
  }
 },
 "nbformat": 4,
 "nbformat_minor": 2
}
